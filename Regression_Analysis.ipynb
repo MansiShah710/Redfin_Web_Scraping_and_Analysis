{
 "cells": [
  {
   "cell_type": "markdown",
   "metadata": {},
   "source": [
    "## Regression Analysis to estimate the price of the property in Solano County"
   ]
  },
  {
   "cell_type": "code",
   "execution_count": 1,
   "metadata": {},
   "outputs": [],
   "source": [
    "import numpy as np\n",
    "import pandas as pd\n",
    "import matplotlib.pyplot as plt\n",
    "import seaborn as seabornInstance \n",
    "from sklearn.model_selection import train_test_split \n",
    "from sklearn.linear_model import LinearRegression\n",
    "from sklearn import metrics\n",
    "pd.set_option('display.max_columns', None)\n",
    "import seaborn as sns\n",
    "from sklearn.metrics import r2_score\n",
    "import statsmodels.api as sm\n",
    "%matplotlib inline"
   ]
  },
  {
   "cell_type": "markdown",
   "metadata": {},
   "source": [
    "### Load the Redfin dataset"
   ]
  },
  {
   "cell_type": "code",
   "execution_count": 2,
   "metadata": {},
   "outputs": [],
   "source": [
    "sold_data= pd.read_excel(\"Redfin_SoldProperty_CleanedData.xlsx\")"
   ]
  },
  {
   "cell_type": "markdown",
   "metadata": {},
   "source": [
    "### Extracting data for Solano"
   ]
  },
  {
   "cell_type": "code",
   "execution_count": 3,
   "metadata": {},
   "outputs": [
    {
     "data": {
      "text/plain": [
       "194"
      ]
     },
     "execution_count": 3,
     "metadata": {},
     "output_type": "execute_result"
    }
   ],
   "source": [
    "data=sold_data[sold_data['sold_price_list'].notnull()]\n",
    "data=data.loc[(data['county']=='Solano') & (data['sold_price_list'] > 100000) & (data['sold_price_list'] < 2000000),:].fillna(method='ffill')\n",
    "len(data)"
   ]
  },
  {
   "cell_type": "code",
   "execution_count": 4,
   "metadata": {},
   "outputs": [
    {
     "data": {
      "text/html": [
       "<div>\n",
       "<style scoped>\n",
       "    .dataframe tbody tr th:only-of-type {\n",
       "        vertical-align: middle;\n",
       "    }\n",
       "\n",
       "    .dataframe tbody tr th {\n",
       "        vertical-align: top;\n",
       "    }\n",
       "\n",
       "    .dataframe thead th {\n",
       "        text-align: right;\n",
       "    }\n",
       "</style>\n",
       "<table border=\"1\" class=\"dataframe\">\n",
       "  <thead>\n",
       "    <tr style=\"text-align: right;\">\n",
       "      <th></th>\n",
       "      <th>address</th>\n",
       "      <th>locality</th>\n",
       "      <th>region</th>\n",
       "      <th>postal_code</th>\n",
       "      <th>estimate_price</th>\n",
       "      <th>sold_price_list</th>\n",
       "      <th>sold_date_list</th>\n",
       "      <th>beds</th>\n",
       "      <th>baths</th>\n",
       "      <th>per_sq_ft</th>\n",
       "      <th>area</th>\n",
       "      <th>on_redfin</th>\n",
       "      <th>status</th>\n",
       "      <th>built</th>\n",
       "      <th>type</th>\n",
       "      <th>style</th>\n",
       "      <th>view</th>\n",
       "      <th>community</th>\n",
       "      <th>mls</th>\n",
       "      <th>lot_size</th>\n",
       "      <th>stories</th>\n",
       "      <th>county</th>\n",
       "      <th>walkable</th>\n",
       "      <th>walkable Score</th>\n",
       "      <th>transit</th>\n",
       "      <th>transit score</th>\n",
       "      <th>bikeable</th>\n",
       "      <th>bikeable score</th>\n",
       "      <th># of schools</th>\n",
       "    </tr>\n",
       "  </thead>\n",
       "  <tbody>\n",
       "    <tr>\n",
       "      <th>978</th>\n",
       "      <td>2019 Crawford Ct</td>\n",
       "      <td>Fairfield</td>\n",
       "      <td>CA</td>\n",
       "      <td>94533</td>\n",
       "      <td>356228</td>\n",
       "      <td>378000.0</td>\n",
       "      <td>SOLD BY REDFIN FEB 19, 2020</td>\n",
       "      <td>3.0</td>\n",
       "      <td>2.0</td>\n",
       "      <td>223.0</td>\n",
       "      <td>1696.0</td>\n",
       "      <td>Selling with Traditional Agent</td>\n",
       "      <td>Sold</td>\n",
       "      <td>NaN</td>\n",
       "      <td>NaN</td>\n",
       "      <td>NaN</td>\n",
       "      <td>NaN</td>\n",
       "      <td>Fairfield 6</td>\n",
       "      <td>22001262</td>\n",
       "      <td>NaN</td>\n",
       "      <td>NaN</td>\n",
       "      <td>Solano</td>\n",
       "      <td>Car-Dependent</td>\n",
       "      <td>11.0</td>\n",
       "      <td>Minimal Transit</td>\n",
       "      <td>25.0</td>\n",
       "      <td>Somewhat Bikeable</td>\n",
       "      <td>29.0</td>\n",
       "      <td>3.0</td>\n",
       "    </tr>\n",
       "    <tr>\n",
       "      <th>979</th>\n",
       "      <td>2148 Sweetwater Dr</td>\n",
       "      <td>Fairfield</td>\n",
       "      <td>CA</td>\n",
       "      <td>94534</td>\n",
       "      <td>625155</td>\n",
       "      <td>620000.0</td>\n",
       "      <td>SOLD BY REDFIN FEB 4, 2020</td>\n",
       "      <td>5.0</td>\n",
       "      <td>3.0</td>\n",
       "      <td>236.0</td>\n",
       "      <td>2626.0</td>\n",
       "      <td>Selling with Traditional Agent</td>\n",
       "      <td>Sold</td>\n",
       "      <td>NaN</td>\n",
       "      <td>NaN</td>\n",
       "      <td>NaN</td>\n",
       "      <td>NaN</td>\n",
       "      <td>Cordelia</td>\n",
       "      <td>21927834</td>\n",
       "      <td>NaN</td>\n",
       "      <td>NaN</td>\n",
       "      <td>Solano</td>\n",
       "      <td>Car-Dependent</td>\n",
       "      <td>2.0</td>\n",
       "      <td>Minimal Transit</td>\n",
       "      <td>18.0</td>\n",
       "      <td>Somewhat Bikeable</td>\n",
       "      <td>22.0</td>\n",
       "      <td>3.0</td>\n",
       "    </tr>\n",
       "  </tbody>\n",
       "</table>\n",
       "</div>"
      ],
      "text/plain": [
       "                 address   locality region postal_code  estimate_price  \\\n",
       "978    2019 Crawford Ct   Fairfield     CA       94533          356228   \n",
       "979  2148 Sweetwater Dr   Fairfield     CA       94534          625155   \n",
       "\n",
       "     sold_price_list               sold_date_list  beds  baths  per_sq_ft  \\\n",
       "978         378000.0  SOLD BY REDFIN FEB 19, 2020   3.0    2.0      223.0   \n",
       "979         620000.0   SOLD BY REDFIN FEB 4, 2020   5.0    3.0      236.0   \n",
       "\n",
       "       area                       on_redfin status  built type  style  view  \\\n",
       "978  1696.0  Selling with Traditional Agent   Sold    NaN  NaN    NaN   NaN   \n",
       "979  2626.0  Selling with Traditional Agent   Sold    NaN  NaN    NaN   NaN   \n",
       "\n",
       "       community       mls  lot_size  stories  county       walkable  \\\n",
       "978  Fairfield 6  22001262       NaN      NaN  Solano  Car-Dependent   \n",
       "979     Cordelia  21927834       NaN      NaN  Solano  Car-Dependent   \n",
       "\n",
       "     walkable Score          transit  transit score           bikeable  \\\n",
       "978            11.0  Minimal Transit           25.0  Somewhat Bikeable   \n",
       "979             2.0  Minimal Transit           18.0  Somewhat Bikeable   \n",
       "\n",
       "     bikeable score  # of schools  \n",
       "978            29.0           3.0  \n",
       "979            22.0           3.0  "
      ]
     },
     "execution_count": 4,
     "metadata": {},
     "output_type": "execute_result"
    }
   ],
   "source": [
    "data.head(2)"
   ]
  },
  {
   "cell_type": "code",
   "execution_count": 5,
   "metadata": {},
   "outputs": [
    {
     "data": {
      "text/plain": [
       "Index(['address', 'locality', 'region', 'postal_code', 'estimate_price',\n",
       "       'sold_price_list', 'sold_date_list', 'beds', 'baths', 'per_sq_ft',\n",
       "       'area', 'on_redfin', 'status', 'built', 'type', 'style', 'view',\n",
       "       'community', 'mls', 'lot_size', 'stories', 'county', 'walkable',\n",
       "       'walkable Score', 'transit', 'transit score', 'bikeable',\n",
       "       'bikeable score', '# of schools'],\n",
       "      dtype='object')"
      ]
     },
     "execution_count": 5,
     "metadata": {},
     "output_type": "execute_result"
    }
   ],
   "source": [
    "data.columns"
   ]
  },
  {
   "cell_type": "markdown",
   "metadata": {},
   "source": [
    "### Selecting independent variables"
   ]
  },
  {
   "cell_type": "code",
   "execution_count": 6,
   "metadata": {},
   "outputs": [],
   "source": [
    "data_new = pd.DataFrame(data, columns = ['estimate_price','sold_price_list',\n",
    "                                       'beds','baths','area', 'walkable Score','transit score', 'bikeable score'\n",
    "                                        ,'# of schools'])"
   ]
  },
  {
   "cell_type": "code",
   "execution_count": 7,
   "metadata": {},
   "outputs": [],
   "source": [
    "# Dropping the variable to be predicted\n",
    "finaldata = data_new.drop(columns = ['sold_price_list'])"
   ]
  },
  {
   "cell_type": "code",
   "execution_count": 8,
   "metadata": {},
   "outputs": [
    {
     "data": {
      "text/html": [
       "<div>\n",
       "<style scoped>\n",
       "    .dataframe tbody tr th:only-of-type {\n",
       "        vertical-align: middle;\n",
       "    }\n",
       "\n",
       "    .dataframe tbody tr th {\n",
       "        vertical-align: top;\n",
       "    }\n",
       "\n",
       "    .dataframe thead th {\n",
       "        text-align: right;\n",
       "    }\n",
       "</style>\n",
       "<table border=\"1\" class=\"dataframe\">\n",
       "  <thead>\n",
       "    <tr style=\"text-align: right;\">\n",
       "      <th></th>\n",
       "      <th>estimate_price</th>\n",
       "      <th>beds</th>\n",
       "      <th>baths</th>\n",
       "      <th>area</th>\n",
       "      <th>walkable Score</th>\n",
       "      <th>transit score</th>\n",
       "      <th>bikeable score</th>\n",
       "      <th># of schools</th>\n",
       "    </tr>\n",
       "  </thead>\n",
       "  <tbody>\n",
       "    <tr>\n",
       "      <th>978</th>\n",
       "      <td>356228</td>\n",
       "      <td>3.0</td>\n",
       "      <td>2.0</td>\n",
       "      <td>1696.0</td>\n",
       "      <td>11.0</td>\n",
       "      <td>25.0</td>\n",
       "      <td>29.0</td>\n",
       "      <td>3.0</td>\n",
       "    </tr>\n",
       "    <tr>\n",
       "      <th>979</th>\n",
       "      <td>625155</td>\n",
       "      <td>5.0</td>\n",
       "      <td>3.0</td>\n",
       "      <td>2626.0</td>\n",
       "      <td>2.0</td>\n",
       "      <td>18.0</td>\n",
       "      <td>22.0</td>\n",
       "      <td>3.0</td>\n",
       "    </tr>\n",
       "  </tbody>\n",
       "</table>\n",
       "</div>"
      ],
      "text/plain": [
       "     estimate_price  beds  baths    area  walkable Score  transit score  \\\n",
       "978          356228   3.0    2.0  1696.0            11.0           25.0   \n",
       "979          625155   5.0    3.0  2626.0             2.0           18.0   \n",
       "\n",
       "     bikeable score  # of schools  \n",
       "978            29.0           3.0  \n",
       "979            22.0           3.0  "
      ]
     },
     "execution_count": 8,
     "metadata": {},
     "output_type": "execute_result"
    }
   ],
   "source": [
    "finaldata.head(2)"
   ]
  },
  {
   "cell_type": "code",
   "execution_count": 9,
   "metadata": {},
   "outputs": [
    {
     "data": {
      "text/plain": [
       "(194, 8)"
      ]
     },
     "execution_count": 9,
     "metadata": {},
     "output_type": "execute_result"
    }
   ],
   "source": [
    "finaldata.shape"
   ]
  },
  {
   "cell_type": "markdown",
   "metadata": {},
   "source": [
    "### Correlation Matrix"
   ]
  },
  {
   "cell_type": "code",
   "execution_count": 10,
   "metadata": {},
   "outputs": [
    {
     "data": {
      "text/html": [
       "<div>\n",
       "<style scoped>\n",
       "    .dataframe tbody tr th:only-of-type {\n",
       "        vertical-align: middle;\n",
       "    }\n",
       "\n",
       "    .dataframe tbody tr th {\n",
       "        vertical-align: top;\n",
       "    }\n",
       "\n",
       "    .dataframe thead th {\n",
       "        text-align: right;\n",
       "    }\n",
       "</style>\n",
       "<table border=\"1\" class=\"dataframe\">\n",
       "  <thead>\n",
       "    <tr style=\"text-align: right;\">\n",
       "      <th></th>\n",
       "      <th>estimate_price</th>\n",
       "      <th>sold_price_list</th>\n",
       "      <th>beds</th>\n",
       "      <th>baths</th>\n",
       "      <th>area</th>\n",
       "      <th>walkable Score</th>\n",
       "      <th>transit score</th>\n",
       "      <th>bikeable score</th>\n",
       "      <th># of schools</th>\n",
       "    </tr>\n",
       "  </thead>\n",
       "  <tbody>\n",
       "    <tr>\n",
       "      <th>estimate_price</th>\n",
       "      <td>1.000000</td>\n",
       "      <td>0.992618</td>\n",
       "      <td>0.696417</td>\n",
       "      <td>0.704806</td>\n",
       "      <td>0.890979</td>\n",
       "      <td>-0.447386</td>\n",
       "      <td>-0.221881</td>\n",
       "      <td>-0.400662</td>\n",
       "      <td>0.153142</td>\n",
       "    </tr>\n",
       "    <tr>\n",
       "      <th>sold_price_list</th>\n",
       "      <td>0.992618</td>\n",
       "      <td>1.000000</td>\n",
       "      <td>0.707228</td>\n",
       "      <td>0.708118</td>\n",
       "      <td>0.895283</td>\n",
       "      <td>-0.449365</td>\n",
       "      <td>-0.216082</td>\n",
       "      <td>-0.396336</td>\n",
       "      <td>0.152895</td>\n",
       "    </tr>\n",
       "    <tr>\n",
       "      <th>beds</th>\n",
       "      <td>0.696417</td>\n",
       "      <td>0.707228</td>\n",
       "      <td>1.000000</td>\n",
       "      <td>0.607209</td>\n",
       "      <td>0.717517</td>\n",
       "      <td>-0.175761</td>\n",
       "      <td>-0.020041</td>\n",
       "      <td>-0.121585</td>\n",
       "      <td>0.002580</td>\n",
       "    </tr>\n",
       "    <tr>\n",
       "      <th>baths</th>\n",
       "      <td>0.704806</td>\n",
       "      <td>0.708118</td>\n",
       "      <td>0.607209</td>\n",
       "      <td>1.000000</td>\n",
       "      <td>0.797582</td>\n",
       "      <td>-0.343008</td>\n",
       "      <td>-0.221173</td>\n",
       "      <td>-0.329066</td>\n",
       "      <td>0.097801</td>\n",
       "    </tr>\n",
       "    <tr>\n",
       "      <th>area</th>\n",
       "      <td>0.890979</td>\n",
       "      <td>0.895283</td>\n",
       "      <td>0.717517</td>\n",
       "      <td>0.797582</td>\n",
       "      <td>1.000000</td>\n",
       "      <td>-0.401865</td>\n",
       "      <td>-0.237295</td>\n",
       "      <td>-0.321859</td>\n",
       "      <td>0.152509</td>\n",
       "    </tr>\n",
       "    <tr>\n",
       "      <th>walkable Score</th>\n",
       "      <td>-0.447386</td>\n",
       "      <td>-0.449365</td>\n",
       "      <td>-0.175761</td>\n",
       "      <td>-0.343008</td>\n",
       "      <td>-0.401865</td>\n",
       "      <td>1.000000</td>\n",
       "      <td>0.459379</td>\n",
       "      <td>0.533018</td>\n",
       "      <td>-0.028168</td>\n",
       "    </tr>\n",
       "    <tr>\n",
       "      <th>transit score</th>\n",
       "      <td>-0.221881</td>\n",
       "      <td>-0.216082</td>\n",
       "      <td>-0.020041</td>\n",
       "      <td>-0.221173</td>\n",
       "      <td>-0.237295</td>\n",
       "      <td>0.459379</td>\n",
       "      <td>1.000000</td>\n",
       "      <td>0.184666</td>\n",
       "      <td>0.084269</td>\n",
       "    </tr>\n",
       "    <tr>\n",
       "      <th>bikeable score</th>\n",
       "      <td>-0.400662</td>\n",
       "      <td>-0.396336</td>\n",
       "      <td>-0.121585</td>\n",
       "      <td>-0.329066</td>\n",
       "      <td>-0.321859</td>\n",
       "      <td>0.533018</td>\n",
       "      <td>0.184666</td>\n",
       "      <td>1.000000</td>\n",
       "      <td>-0.064938</td>\n",
       "    </tr>\n",
       "    <tr>\n",
       "      <th># of schools</th>\n",
       "      <td>0.153142</td>\n",
       "      <td>0.152895</td>\n",
       "      <td>0.002580</td>\n",
       "      <td>0.097801</td>\n",
       "      <td>0.152509</td>\n",
       "      <td>-0.028168</td>\n",
       "      <td>0.084269</td>\n",
       "      <td>-0.064938</td>\n",
       "      <td>1.000000</td>\n",
       "    </tr>\n",
       "  </tbody>\n",
       "</table>\n",
       "</div>"
      ],
      "text/plain": [
       "                 estimate_price  sold_price_list      beds     baths  \\\n",
       "estimate_price         1.000000         0.992618  0.696417  0.704806   \n",
       "sold_price_list        0.992618         1.000000  0.707228  0.708118   \n",
       "beds                   0.696417         0.707228  1.000000  0.607209   \n",
       "baths                  0.704806         0.708118  0.607209  1.000000   \n",
       "area                   0.890979         0.895283  0.717517  0.797582   \n",
       "walkable Score        -0.447386        -0.449365 -0.175761 -0.343008   \n",
       "transit score         -0.221881        -0.216082 -0.020041 -0.221173   \n",
       "bikeable score        -0.400662        -0.396336 -0.121585 -0.329066   \n",
       "# of schools           0.153142         0.152895  0.002580  0.097801   \n",
       "\n",
       "                     area  walkable Score  transit score  bikeable score  \\\n",
       "estimate_price   0.890979       -0.447386      -0.221881       -0.400662   \n",
       "sold_price_list  0.895283       -0.449365      -0.216082       -0.396336   \n",
       "beds             0.717517       -0.175761      -0.020041       -0.121585   \n",
       "baths            0.797582       -0.343008      -0.221173       -0.329066   \n",
       "area             1.000000       -0.401865      -0.237295       -0.321859   \n",
       "walkable Score  -0.401865        1.000000       0.459379        0.533018   \n",
       "transit score   -0.237295        0.459379       1.000000        0.184666   \n",
       "bikeable score  -0.321859        0.533018       0.184666        1.000000   \n",
       "# of schools     0.152509       -0.028168       0.084269       -0.064938   \n",
       "\n",
       "                 # of schools  \n",
       "estimate_price       0.153142  \n",
       "sold_price_list      0.152895  \n",
       "beds                 0.002580  \n",
       "baths                0.097801  \n",
       "area                 0.152509  \n",
       "walkable Score      -0.028168  \n",
       "transit score        0.084269  \n",
       "bikeable score      -0.064938  \n",
       "# of schools         1.000000  "
      ]
     },
     "execution_count": 10,
     "metadata": {},
     "output_type": "execute_result"
    }
   ],
   "source": [
    "data_new.corr(method='pearson')"
   ]
  },
  {
   "cell_type": "markdown",
   "metadata": {},
   "source": [
    "### Plotting the heat map"
   ]
  },
  {
   "cell_type": "code",
   "execution_count": 11,
   "metadata": {},
   "outputs": [
    {
     "data": {
      "text/plain": [
       "<matplotlib.axes._subplots.AxesSubplot at 0x1c1c7247b8>"
      ]
     },
     "execution_count": 11,
     "metadata": {},
     "output_type": "execute_result"
    },
    {
     "data": {
      "image/png": "[encoded data removed]",
      "text/plain": [
       "<Figure size 720x576 with 2 Axes>"
      ]
     },
     "metadata": {
      "needs_background": "light"
     },
     "output_type": "display_data"
    }
   ],
   "source": [
    "plt.subplots(figsize=(10,8))\n",
    "sns.heatmap(data_new.corr())"
   ]
  },
  {
   "cell_type": "markdown",
   "metadata": {},
   "source": [
    "#### Based on above heatmap, 'beds', 'baths', 'area', 'walkable Score', 'bikeable score' are correlated with the sold price"
   ]
  },
  {
   "cell_type": "code",
   "execution_count": 12,
   "metadata": {},
   "outputs": [],
   "source": [
    "X = finaldata[['beds', 'baths', 'area', 'walkable Score', 'bikeable score']].values\n",
    "y = data_new['sold_price_list'].values"
   ]
  },
  {
   "cell_type": "code",
   "execution_count": 13,
   "metadata": {},
   "outputs": [
    {
     "data": {
      "text/plain": [
       "<matplotlib.axes._subplots.AxesSubplot at 0x1c1c82a748>"
      ]
     },
     "execution_count": 13,
     "metadata": {},
     "output_type": "execute_result"
    },
    {
     "data": {
      "image/png": "[encoded data removed]",
      "text/plain": [
       "<Figure size 1080x720 with 1 Axes>"
      ]
     },
     "metadata": {
      "needs_background": "light"
     },
     "output_type": "display_data"
    }
   ],
   "source": [
    "plt.figure(figsize=(15,10))\n",
    "plt.tight_layout()\n",
    "seabornInstance.distplot(data_new['sold_price_list'])"
   ]
  },
  {
   "cell_type": "markdown",
   "metadata": {},
   "source": [
    "#### Prepare train and test data"
   ]
  },
  {
   "cell_type": "code",
   "execution_count": 14,
   "metadata": {},
   "outputs": [],
   "source": [
    "X_train, X_test, y_train, y_test = train_test_split(X, y, test_size=0.25, random_state=0)"
   ]
  },
  {
   "cell_type": "markdown",
   "metadata": {},
   "source": [
    "#### Multi linear regression model"
   ]
  },
  {
   "cell_type": "code",
   "execution_count": 15,
   "metadata": {},
   "outputs": [
    {
     "data": {
      "text/plain": [
       "LinearRegression(copy_X=True, fit_intercept=True, n_jobs=None, normalize=False)"
      ]
     },
     "execution_count": 15,
     "metadata": {},
     "output_type": "execute_result"
    }
   ],
   "source": [
    "regressor = LinearRegression()  \n",
    "regressor.fit(X_train, y_train)"
   ]
  },
  {
   "cell_type": "code",
   "execution_count": 16,
   "metadata": {},
   "outputs": [
    {
     "data": {
      "text/plain": [
       "0.8514924022773159"
      ]
     },
     "execution_count": 16,
     "metadata": {},
     "output_type": "execute_result"
    }
   ],
   "source": [
    "# R^2 when the model is run on test data.\n",
    "regressor.score(X_test, y_test)"
   ]
  },
  {
   "cell_type": "code",
   "execution_count": 17,
   "metadata": {},
   "outputs": [],
   "source": [
    "# Get the predictions for test data.\n",
    "y_pred = regressor.predict(X_test)"
   ]
  },
  {
   "cell_type": "code",
   "execution_count": 18,
   "metadata": {},
   "outputs": [],
   "source": [
    "df = pd.DataFrame({'Actual': y_test, 'Predicted': y_pred})\n",
    "df1 = df.head(25)"
   ]
  },
  {
   "cell_type": "code",
   "execution_count": 19,
   "metadata": {},
   "outputs": [
    {
     "data": {
      "image/png": "[encoded data removed]",
      "text/plain": [
       "<Figure size 720x360 with 1 Axes>"
      ]
     },
     "metadata": {
      "needs_background": "light"
     },
     "output_type": "display_data"
    }
   ],
   "source": [
    "df1.plot(kind='bar',figsize=(10,5))\n",
    "plt.grid(which='major', linestyle='-', linewidth='0.5', color='green')\n",
    "plt.grid(which='minor', linestyle=':', linewidth='0.5', color='black')\n",
    "plt.xlabel(\"Data Points\")\n",
    "plt.ylabel(\"Price\")\n",
    "plt.title(\"Actual v/s Predicted Prices\")\n",
    "plt.show()"
   ]
  },
  {
   "cell_type": "code",
   "execution_count": 20,
   "metadata": {},
   "outputs": [
    {
     "name": "stdout",
     "output_type": "stream",
     "text": [
      "Mean Absolute Error (MAE): 42530.72152713523\n",
      "Mean Squared Error (MSE): 2981106738.630386\n",
      "Root Mean Squared Error (RMSE): 54599.5122563415\n"
     ]
    }
   ],
   "source": [
    "# Getting the error metrics\n",
    "print('Mean Absolute Error (MAE):', metrics.mean_absolute_error(y_test, y_pred))  \n",
    "print('Mean Squared Error (MSE):', metrics.mean_squared_error(y_test, y_pred))  \n",
    "print('Root Mean Squared Error (RMSE):', np.sqrt(metrics.mean_squared_error(y_test, y_pred)))"
   ]
  },
  {
   "cell_type": "code",
   "execution_count": 21,
   "metadata": {},
   "outputs": [
    {
     "name": "stdout",
     "output_type": "stream",
     "text": [
      "                            OLS Regression Results                            \n",
      "==============================================================================\n",
      "Dep. Variable:                      y   R-squared:                       0.866\n",
      "Model:                            OLS   Adj. R-squared:                  0.850\n",
      "Method:                 Least Squares   F-statistic:                     55.59\n",
      "Date:                Sat, 05 Sep 2020   Prob (F-statistic):           1.13e-17\n",
      "Time:                        17:41:45   Log-Likelihood:                -601.49\n",
      "No. Observations:                  49   AIC:                             1215.\n",
      "Df Residuals:                      43   BIC:                             1226.\n",
      "Df Model:                           5                                         \n",
      "Covariance Type:            nonrobust                                         \n",
      "==============================================================================\n",
      "                 coef    std err          t      P>|t|      [0.025      0.975]\n",
      "------------------------------------------------------------------------------\n",
      "const       1.225e+05    5.8e+04      2.114      0.040    5617.901    2.39e+05\n",
      "x1          2.775e+04   1.69e+04      1.641      0.108   -6357.568    6.18e+04\n",
      "x2         -6229.7900   2.96e+04     -0.211      0.834   -6.58e+04    5.34e+04\n",
      "x3           162.3091     27.558      5.890      0.000     106.734     217.884\n",
      "x4           -76.9867    534.948     -0.144      0.886   -1155.813    1001.840\n",
      "x5          -549.4581    643.987     -0.853      0.398   -1848.183     749.266\n",
      "==============================================================================\n",
      "Omnibus:                       13.682   Durbin-Watson:                   1.813\n",
      "Prob(Omnibus):                  0.001   Jarque-Bera (JB):               15.876\n",
      "Skew:                           1.034   Prob(JB):                     0.000357\n",
      "Kurtosis:                       4.872   Cond. No.                     1.58e+04\n",
      "==============================================================================\n",
      "\n",
      "Warnings:\n",
      "[1] Standard Errors assume that the covariance matrix of the errors is correctly specified.\n",
      "[2] The condition number is large, 1.58e+04. This might indicate that there are\n",
      "strong multicollinearity or other numerical problems.\n"
     ]
    }
   ],
   "source": [
    "X = finaldata[['beds','baths','area', 'walkable Score', 'bikeable score']].values\n",
    "y = data_new['sold_price_list'].values\n",
    "\n",
    "X = X_test\n",
    "y = y_test\n",
    "X2 = sm.add_constant(X)\n",
    "est = sm.OLS(y, X2)\n",
    "est2 = est.fit()\n",
    "print(est2.summary())"
   ]
  },
  {
   "cell_type": "markdown",
   "metadata": {},
   "source": [
    "### Findings:\n",
    "About 85% of the variation in sold prices are explained by this model. F-statistic is greater than 1 (71.59) which demonstrates strong correlation between dependent and independent variables. Also, the second, fourth and fifth coefficient (the ones for baths,walkable Score and bikeable score) have a large p-value. Therefore, these three variables are not statistically significant. Removing these predictors would slightly reduce the R² value, but we might make better predictions."
   ]
  },
  {
   "cell_type": "code",
   "execution_count": 23,
   "metadata": {},
   "outputs": [],
   "source": [
    "# Redfin estimates vs Actual price\n",
    "y_pred = data_new['estimate_price']\n",
    "y_test = data_new['sold_price_list']"
   ]
  },
  {
   "cell_type": "code",
   "execution_count": 24,
   "metadata": {},
   "outputs": [
    {
     "data": {
      "image/png": "[encoded data removed]",
      "text/plain": [
       "<Figure size 720x360 with 1 Axes>"
      ]
     },
     "metadata": {
      "needs_background": "light"
     },
     "output_type": "display_data"
    },
    {
     "name": "stdout",
     "output_type": "stream",
     "text": [
      "Mean Absolute Error: 9579.432989690722\n",
      "Mean Squared Error: 328620729.53608245\n",
      "Root Mean Squared Error: 18127.899203605542\n"
     ]
    }
   ],
   "source": [
    "df = pd.DataFrame({'Actual': y_test, 'Predicted': y_pred})\n",
    "df1 = df.head(25)\n",
    "\n",
    "df1.plot(kind='bar',figsize=(10,5))\n",
    "plt.grid(which='major', linestyle='-', linewidth='0.5', color='green')\n",
    "plt.grid(which='minor', linestyle=':', linewidth='0.5', color='black')\n",
    "plt.xlabel(\"data_points\")\n",
    "plt.ylabel(\"values\")\n",
    "plt.title(\"Actual v/s Predicted Prices\")\n",
    "plt.show()\n",
    "\n",
    "print('Mean Absolute Error:', metrics.mean_absolute_error(y_test, y_pred))  \n",
    "print('Mean Squared Error:', metrics.mean_squared_error(y_test, y_pred))  \n",
    "print('Root Mean Squared Error:', np.sqrt(metrics.mean_squared_error(y_test, y_pred)))"
   ]
  },
  {
   "cell_type": "code",
   "execution_count": null,
   "metadata": {},
   "outputs": [],
   "source": []
  }
 ],
 "metadata": {
  "kernelspec": {
   "display_name": "Python 3",
   "language": "python",
   "name": "python3"
  },
  "language_info": {
   "codemirror_mode": {
    "name": "ipython",
    "version": 3
   },
   "file_extension": ".py",
   "mimetype": "text/x-python",
   "name": "python",
   "nbconvert_exporter": "python",
   "pygments_lexer": "ipython3",
   "version": "3.7.0"
  }
 },
 "nbformat": 4,
 "nbformat_minor": 2
}
